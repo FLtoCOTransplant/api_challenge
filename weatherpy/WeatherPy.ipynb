{
 "cells": [
  {
   "cell_type": "markdown",
   "metadata": {},
   "source": [
    "# WeatherPy\n",
    "----\n",
    "\n",
    "#### Note\n",
    "* Instructions have been included for each segment. You do not have to follow them exactly, but they are included to help you think through the steps."
   ]
  },
  {
   "cell_type": "code",
   "execution_count": null,
   "metadata": {
    "scrolled": true
   },
   "outputs": [],
   "source": [
    "# Dependencies and Setup\n",
    "import matplotlib.pyplot as plt\n",
    "import pandas as pd\n",
    "import numpy as np\n",
    "import requests\n",
    "import time\n",
    "from scipy.stats import linregress\n",
    "\n",
    "# Import API key\n",
    "from config import api_key\n",
    "\n",
    "# Incorporated citipy to determine city based on latitude and longitude\n",
    "from citipy import citipy\n",
    "\n",
    "# Output File (CSV)\n",
    "output_data_file = \"output_data/cities.csv\"\n",
    "\n",
    "# Range of latitudes and longitudes\n",
    "lat_range = (-90, 90)\n",
    "lng_range = (-180, 180)"
   ]
  },
  {
   "cell_type": "markdown",
   "metadata": {},
   "source": [
    "## Generate Cities List"
   ]
  },
  {
   "cell_type": "code",
   "execution_count": null,
   "metadata": {},
   "outputs": [],
   "source": [
    "# List for holding lat_lngs and cities\n",
    "lat_lngs = []\n",
    "cities = []\n",
    "\n",
    "# Create a set of random lat and lng combinations\n",
    "lats = np.random.uniform(lat_range[0], lat_range[1], size=1500)\n",
    "lngs = np.random.uniform(lng_range[0], lng_range[1], size=1500)\n",
    "lat_lngs = zip(lats, lngs)\n",
    "\n",
    "# Identify nearest city for each lat, lng combination\n",
    "for lat_lng in lat_lngs:\n",
    "    city = citipy.nearest_city(lat_lng[0], lat_lng[1]).city_name\n",
    "    \n",
    "    # If the city is unique, then add it to a our cities list\n",
    "    if city not in cities:\n",
    "        cities.append(city)\n",
    "\n",
    "# Print the city count to confirm sufficient count\n",
    "len(cities)"
   ]
  },
  {
   "cell_type": "markdown",
   "metadata": {},
   "source": [
    "### Perform API Calls\n",
    "* Perform a weather check on each city using a series of successive API calls.\n",
    "* Include a print log of each city as it'sbeing processed (with the city number and city name).\n"
   ]
  },
  {
   "cell_type": "code",
   "execution_count": null,
   "metadata": {
    "scrolled": false
   },
   "outputs": [],
   "source": [
    "# API set up\n",
    "url = \"http://api.openweathermap.org/data/2.5/weather?units=Imperial&APPID=\"\n",
    "\n",
    "# Lists to hold data\n",
    "c_id = []\n",
    "c_name = []\n",
    "country = []\n",
    "lat = []\n",
    "long = []\n",
    "weather_date = []\n",
    "temp_max = []\n",
    "humidity = []\n",
    "cloudiness = []\n",
    "w_speed = []\n",
    "\n",
    "# Create a file to store Open WeatherMap API call info and store as a .csv\n",
    "owmlog = open('open_weathermap_log.txt', 'w')\n",
    "owmdata = open('open_weathermap_data.csv', 'w')\n",
    "\n",
    "# Define header for open_weathermap_data.csv\n",
    "owmdata.write(\"c_id,c_name,country,lat,long,weather_date,temp,humidity,cloudiness,w_speed\\n\")\n",
    "\n",
    "# Loop through the list of cities\n",
    "for city in cities:\n",
    "    query_url = f\"{url}{api_key}&q={city}\"\n",
    "    print(query_url)\n",
    "    response = requests.get(query_url).json()\n",
    "    \n",
    "# Try to querry the pertinent data, creating variables with proper formatting\n",
    "    try:\n",
    "        cityID = int(response['id'])\n",
    "        cityName = response['name']\n",
    "        countryCode = response['sys']['country']\n",
    "        lat_val = response['coord']['lat']\n",
    "        lon_val = response['coord']['lon']\n",
    "        weatherDate = (datetime.fromtimestamp(response['dt'])).strftime('%m/%d/%y')\n",
    "        temp_max = response['main']['temp_max']\n",
    "        humidity_val = response['main']['humidity']\n",
    "        cloudiness_val = response['clouds']['all']\n",
    "        windSpeed = response['wind']['speed']\n",
    "        \n",
    "        # Append retreived values to lists above using the variables created above\n",
    "        c_id.append(cityID)\n",
    "        c_name.append(cityName)\n",
    "        country.append(countryCode)\n",
    "        lat.append(lat_val)\n",
    "        long.append(lon_val)\n",
    "        weather_date.append(weatherDate)\n",
    "        temp_max.append(temp_max)\n",
    "        humidity.append(humidity_val)\n",
    "        cloudiness.append(cloudiness_val)\n",
    "        w_speed.append(windSpeed)\n",
    "       \n",
    "        # Print cityname & cityID  to mark progress and store it to a print log text file\n",
    "        print(f\"{cityName}:{cityID} was found in the Open Weathermap API\\n\")\n",
    "        owmlog.write(f\"{cityName}:{cityID} was found in the Open Weathermap API\\n\")\n",
    "        \n",
    "        # Store the data as a .csv file\n",
    "        owmdata.write(f\"{cityID},{cityName},{countryCode},{lat_val},{lon_val},{weatherDate},\\\n",
    "            {temp_max},{humidity_val},{cloudiness_val},{windSpeed}\\n\")\n",
    "        \n",
    "    # If the data is not in Open WeatherMap API and it creates a Null\n",
    "    except:\n",
    "        \n",
    "        print(f\"{city} was not found in the Open Weathermap API\\n\")\n",
    "        owmlog.write(f\"{city} was not found in the Open Weathermap API\\n\")\n",
    "        \n",
    "        #Add these cities to the lists\n",
    "        c_id.append(None)\n",
    "        c_name.append(None)\n",
    "        country.append(None)\n",
    "        lat.append(None)\n",
    "        long.append(None)\n",
    "        weather_date.append(None)\n",
    "        temp_max.append(None)\n",
    "        humidity.append(None)\n",
    "        cloudiness.append(None)\n",
    "        w_speed.append(None)\n",
    "        pass\n",
    "    \n",
    "# Close the file handle after completion of the loop\n",
    "owmlog.close()\n",
    "owmdata.close()"
   ]
  },
  {
   "cell_type": "markdown",
   "metadata": {},
   "source": [
    "### Convert Raw Data to DataFrame\n",
    "* Export the city data into a .csv.\n",
    "* Display the DataFrame"
   ]
  },
  {
   "cell_type": "code",
   "execution_count": null,
   "metadata": {},
   "outputs": [],
   "source": [
    "cities_df.to_csv(\"city_weather.csv\")"
   ]
  },
  {
   "cell_type": "code",
   "execution_count": null,
   "metadata": {},
   "outputs": [],
   "source": [
    "cities_df = pd.DataFrame(city_list)\n",
    "\n",
    "cities_df.head()"
   ]
  },
  {
   "cell_type": "markdown",
   "metadata": {},
   "source": [
    "## Inspect the data and remove the cities where the humidity > 100%.\n",
    "----\n",
    "Skip this step if there are no cities that have humidity > 100%. "
   ]
  },
  {
   "cell_type": "code",
   "execution_count": null,
   "metadata": {},
   "outputs": [],
   "source": []
  },
  {
   "cell_type": "code",
   "execution_count": null,
   "metadata": {},
   "outputs": [],
   "source": [
    "#  Get the indices of cities that have humidity over 100%.\n"
   ]
  },
  {
   "cell_type": "code",
   "execution_count": null,
   "metadata": {},
   "outputs": [],
   "source": [
    "# Make a new DataFrame equal to the city data to drop all humidity outliers by index.\n",
    "# Passing \"inplace=False\" will make a copy of the city_data DataFrame, which we call \"clean_city_data\".\n"
   ]
  },
  {
   "cell_type": "code",
   "execution_count": null,
   "metadata": {},
   "outputs": [],
   "source": [
    "\n"
   ]
  },
  {
   "cell_type": "markdown",
   "metadata": {},
   "source": [
    "## Plotting the Data\n",
    "* Use proper labeling of the plots using plot titles (including date of analysis) and axes labels.\n",
    "* Save the plotted figures as .pngs."
   ]
  },
  {
   "cell_type": "markdown",
   "metadata": {},
   "source": [
    "## Latitude vs. Temperature Plot"
   ]
  },
  {
   "cell_type": "code",
   "execution_count": null,
   "metadata": {
    "scrolled": true
   },
   "outputs": [],
   "source": [
    "plt.scatter(cities_df[\"lat\"], cities_df[\"temp_max\"], marker = \"^\")\n",
    "plt.title(\"Latitude vs. Max Temperature\")\n",
    "plt.xlabel(\"Latitude\")\n",
    "plt.ylabel(\"Max Temperature\")\n",
    "\n",
    "plt.savefig(\"Pics/Lat_v_max_temp.png\")\n",
    "plt.show()\n",
    "\n",
    "print(\"Conclusion\")"
   ]
  },
  {
   "cell_type": "markdown",
   "metadata": {},
   "source": [
    "## Latitude vs. Humidity Plot"
   ]
  },
  {
   "cell_type": "code",
   "execution_count": null,
   "metadata": {},
   "outputs": [],
   "source": [
    "plt.scatter(cities_df[\"lat\"], cities_df[\"humidity\"], marker = \"^\")\n",
    "plt.title(\"Latitude vs. Humidity\")\n",
    "plt.xlabel(\"Latitude\")\n",
    "plt.ylabel(\"Humidity\")\n",
    "\n",
    "plt.savefig(\"Pics/Lat_v_Humidity.png\")\n",
    "plt.show()\n",
    "\n",
    "print(\"Conclusion\")"
   ]
  },
  {
   "cell_type": "markdown",
   "metadata": {},
   "source": [
    "## Latitude vs. Cloudiness Plot"
   ]
  },
  {
   "cell_type": "code",
   "execution_count": null,
   "metadata": {},
   "outputs": [],
   "source": [
    "plt.scatter(cities_df[\"lat\"], cities_df[\"cloudiness\"], marker = \"^\")\n",
    "plt.title(\"Latitude vs. Cloudiness\")\n",
    "plt.xlabel(\"Latitude\")\n",
    "plt.ylabel(\"Cloudiness\")\n",
    "\n",
    "plt.savefig(\"Pics/Lat_v_Cloudiness.png\")\n",
    "plt.show()\n",
    "\n",
    "print(\"Conclusion\")"
   ]
  },
  {
   "cell_type": "markdown",
   "metadata": {},
   "source": [
    "## Latitude vs. Wind Speed Plot"
   ]
  },
  {
   "cell_type": "code",
   "execution_count": null,
   "metadata": {},
   "outputs": [],
   "source": [
    "plt.scatter(cities_df[\"lat\"], cities_df[\"w_speed\"], marker = \"^\")\n",
    "plt.title(\"Latitude vs. Wind Speed\")\n",
    "plt.xlabel(\"Latitude\")\n",
    "plt.ylabel(\"Wind Speed\")\n",
    "\n",
    "plt.savefig(\"Pics/Lat_v_w_speed.png\")\n",
    "plt.show()\n",
    "\n",
    "print(\"Conclusion\")"
   ]
  },
  {
   "cell_type": "markdown",
   "metadata": {},
   "source": [
    "## Linear Regression"
   ]
  },
  {
   "cell_type": "code",
   "execution_count": null,
   "metadata": {},
   "outputs": [],
   "source": [
    "#Divide the cities into Northern and Southern Hemisphere DataFrames\n",
    "northern_df = cities_df.loc[cities_df[\"lat\"].astype(float) > 0]\n",
    "southern_df = cities_df.loc[cities_df[\"lat\"].astype(float) < 0]"
   ]
  },
  {
   "cell_type": "markdown",
   "metadata": {},
   "source": [
    "####  Northern Hemisphere - Max Temp vs. Latitude Linear Regression"
   ]
  },
  {
   "cell_type": "code",
   "execution_count": null,
   "metadata": {},
   "outputs": [],
   "source": [
    "# Run Linear Regression Analysis\n",
    "x_values = northern_df[\"lat\"]\n",
    "y_values = northern_df[\"temp_max\"]\n",
    "\n",
    "# Plot scatter plot\n",
    "plt.scatter(x_values,y_values)\n",
    "\n",
    "# Regression line info\n",
    "(slope, intercept, rvalue, pbalue, stderr) = linregress(x_values, y_values)\n",
    "\n",
    "regress_values = x_values * slope + intercept\n",
    "line_eq = \"y= \" + str(round(slope,2)) + \"x+ \" + str(round(intercept,2))\n",
    "\n",
    "# Plot the regression line\n",
    "plt.plot(x_values,regress_values,\"r--\")\n",
    "plt.annotate(line_eq,(0,50), fontsize = 6, color = \"green\")\n",
    "\n",
    "# Title & Axis labels\n",
    "plt.title(\"Northern Hemisphere - Latitude vs Max Temp\")\n",
    "plt.xlabel(\"Latitude\")\n",
    "plt.ylabel(\"Max Temp (F)\")\n",
    "\n",
    "# Display the analysis results\n",
    "print(f\"Regression line equation is: {line_eq}\")\n",
    "print(f\"The r-squared is: {rvalue**2}\")\n",
    "\n",
    "plt.savefig(\"Pics/North_Hem_Lat_v_Max_temp.png\")\n",
    "plt.show()\n",
    "\n",
    "print(\"conclusion\")"
   ]
  },
  {
   "cell_type": "markdown",
   "metadata": {},
   "source": [
    "####  Southern Hemisphere - Max Temp vs. Latitude Linear Regression"
   ]
  },
  {
   "cell_type": "code",
   "execution_count": null,
   "metadata": {},
   "outputs": [],
   "source": [
    "#Run Linear Regression Analysis\n",
    "x_values = southern_df[\"lat\"]\n",
    "y_values = southern_df[\"temp_max\"]\n",
    "\n",
    "#Plot scatter plot\n",
    "plt.scatter(x_values,y_values)\n",
    "\n",
    "# Regression line info\n",
    "(slope, intercept, rvalue, pbalue, stderr) = linregress(x_values, y_values)\n",
    "\n",
    "regress_values = x_values * slope + intercept\n",
    "line_eq = \"y= \" + str(round(slope,2)) + \"x+ \" + str(round(intercept,2))\n",
    "\n",
    "#Plot regression line\n",
    "plt.plot(x_values,regress_values,\"r--\")\n",
    "plt.annotate(line_eq,(0,50), fontsize = 6, color = \"green\")\n",
    "\n",
    "#Title & Axis labels\n",
    "plt.title(\"Northern Hemisphere - Latitude vs Max Temp\")\n",
    "plt.xlabel(\"Latitude\")\n",
    "plt.ylabel(\"Max Temp (F)\")\n",
    "\n",
    "# Display the analysis results\n",
    "print(f\"Regression line equation is: {line_eq}\")\n",
    "print(f\"The r-squared is: {rvalue**2}\")\n",
    "\n",
    "plt.savefig(\"Pics/North_Hem_Lat_v_temp_max.png\")\n",
    "plt.show()\n",
    "\n",
    "print(\"conclusion\")"
   ]
  },
  {
   "cell_type": "markdown",
   "metadata": {},
   "source": [
    "####  Northern Hemisphere - Humidity (%) vs. Latitude Linear Regression"
   ]
  },
  {
   "cell_type": "code",
   "execution_count": null,
   "metadata": {},
   "outputs": [],
   "source": [
    "#Run Linear Regression Analysis\n",
    "x_values = northern_df[\"lat\"]\n",
    "y_values = northern_df[\"humidity\"]\n",
    "\n",
    "#Plot scatter plot\n",
    "plt.scatter(x_values,y_values)\n",
    "\n",
    "# Regression line info\n",
    "(slope, intercept, rvalue, pbalue, stderr) = linregress(x_values, y_values)\n",
    "\n",
    "regress_values = x_values * slope + intercept\n",
    "line_eq = \"y= \" + str(round(slope,2)) + \"x+ \" + str(round(intercept,2))\n",
    "\n",
    "#Plot regression line\n",
    "plt.plot(x_values,regress_values,\"r--\")\n",
    "plt.annotate(line_eq,(0,50), fontsize = 6, color = \"green\")\n",
    "\n",
    "#Title & Axis labels\n",
    "plt.title(\"Northern Hemisphere - Latitude vs Humidity (%)\")\n",
    "plt.xlabel(\"Latitude\")\n",
    "plt.ylabel(\"Humidity (%)\")\n",
    "\n",
    "# Display the analysis results\n",
    "print(f\"Regression line equation is: {line_eq}\")\n",
    "print(f\"The r-squared is: {rvalue**2}\")\n",
    "\n",
    "plt.savefig(\"Pics/North_Hem_Hum_vs_Lat.png\")\n",
    "plt.show()\n",
    "\n",
    "print(\"conclusion\")"
   ]
  },
  {
   "cell_type": "markdown",
   "metadata": {},
   "source": [
    "####  Southern Hemisphere - Humidity (%) vs. Latitude Linear Regression"
   ]
  },
  {
   "cell_type": "code",
   "execution_count": null,
   "metadata": {},
   "outputs": [],
   "source": [
    "#Run Linear Regression Analysis\n",
    "x_values = southern_df[\"lat\"]\n",
    "y_values = southern_df[\"humidity\"]\n",
    "\n",
    "#Plot scatter plot\n",
    "plt.scatter(x_values,y_values)\n",
    "\n",
    "# Regression line info\n",
    "(slope, intercept, rvalue, pbalue, stderr) = linregress(x_values, y_values)\n",
    "\n",
    "regress_values = x_values * slope + intercept\n",
    "line_eq = \"y= \" + str(round(slope,2)) + \"x+ \" + str(round(intercept,2))\n",
    "\n",
    "#Plot regression line\n",
    "plt.plot(x_values,regress_values,\"r--\")\n",
    "plt.annotate(line_eq,(0,50), fontsize = 6, color = \"green\")\n",
    "\n",
    "#Title & Axis labels\n",
    "plt.title(\"Southern Hemisphere - Latitude vs Humidity (%)\")\n",
    "plt.xlabel(\"Latitude\")\n",
    "plt.ylabel(\"Humidity (%)\")\n",
    "\n",
    "# Display the analysis results\n",
    "print(f\"Regression line equation is: {line_eq}\")\n",
    "print(f\"The r-squared is: {rvalue**2}\")\n",
    "\n",
    "plt.savefig(\"Pics/South_Hem_Hum_vs_Lat.png\")\n",
    "plt.show()\n",
    "\n",
    "print(\"conclusion\")"
   ]
  },
  {
   "cell_type": "markdown",
   "metadata": {},
   "source": [
    "####  Northern Hemisphere - Cloudiness (%) vs. Latitude Linear Regression"
   ]
  },
  {
   "cell_type": "code",
   "execution_count": null,
   "metadata": {},
   "outputs": [],
   "source": [
    "#Run Linear Regression Analysis\n",
    "x_values = northern_df[\"lat\"]\n",
    "y_values = northern_df[\"clouds\"]\n",
    "\n",
    "#Plot scatter plot\n",
    "plt.scatter(x_values,y_values)\n",
    "\n",
    "# Regression line info\n",
    "(slope, intercept, rvalue, pbalue, stderr) = linregress(x_values, y_values)\n",
    "\n",
    "regress_values = x_values * slope + intercept\n",
    "line_eq = \"y= \" + str(round(slope,2)) + \"x+ \" + str(round(intercept,2))\n",
    "\n",
    "#Plot regression line\n",
    "plt.plot(x_values,regress_values,\"r--\")\n",
    "plt.annotate(line_eq,(0,50), fontsize = 6, color = \"green\")\n",
    "\n",
    "#Title & Axis labels\n",
    "plt.title(\"Northern Hemisphere - Latitude vs Cloudiness (%)\")\n",
    "plt.xlabel(\"Latitude\")\n",
    "plt.ylabel(\"Cloudiness (%)\")\n",
    "\n",
    "# Display the analysis results\n",
    "print(f\"Regression line equation is: {line_eq}\")\n",
    "print(f\"The r-squared is: {rvalue**2}\")\n",
    "\n",
    "plt.savefig(\"Pics/North_Hem_Cloudi_vs_Lat.png\")\n",
    "plt.show()\n",
    "\n",
    "print(\"Conclusion\")"
   ]
  },
  {
   "cell_type": "markdown",
   "metadata": {},
   "source": [
    "####  Southern Hemisphere - Cloudiness (%) vs. Latitude Linear Regression"
   ]
  },
  {
   "cell_type": "code",
   "execution_count": null,
   "metadata": {},
   "outputs": [],
   "source": [
    "\n",
    "#Run Linear Regression Data\n",
    "x_values = southern_df[\"lat\"]\n",
    "y_values = southern_df[\"clouds\"]\n",
    "\n",
    "#Plot scatter plot\n",
    "plt.scatter(x_values,y_values)\n",
    "\n",
    "# Regression line info\n",
    "(slope, intercept, rvalue, pbalue, stderr) = linregress(x_values, y_values)\n",
    "\n",
    "regress_values = x_values * slope + intercept\n",
    "line_eq = \"y= \" + str(round(slope,2)) + \"x+ \" + str(round(intercept,2))\n",
    "\n",
    "#Plot regression line\n",
    "plt.plot(x_values,regress_values,\"r--\")\n",
    "plt.annotate(line_eq,(0,50), fontsize = 6, color = \"green\")\n",
    "\n",
    "#Title & Axis labels\n",
    "plt.title(\"Southern Hemisphere - Latitude vs Cloudiness (%)\")\n",
    "plt.xlabel(\"Latitude\")\n",
    "plt.ylabel(\"Cloudiness (%)\")\n",
    "\n",
    "# Display the analysis results\n",
    "print(f\"Regression line equation is: {line_eq}\")\n",
    "print(f\"The r-squared is: {rvalue**2}\")\n",
    "\n",
    "plt.savefig(\"Pics/South_Hem_Cloudi_vs_Lat.png\")\n",
    "plt.show()\n",
    "\n",
    "print(\"Conclusion\")"
   ]
  },
  {
   "cell_type": "markdown",
   "metadata": {},
   "source": [
    "####  Northern Hemisphere - Wind Speed (mph) vs. Latitude Linear Regression"
   ]
  },
  {
   "cell_type": "code",
   "execution_count": null,
   "metadata": {},
   "outputs": [],
   "source": [
    "#Run Linear Regression Data\n",
    "x_values = northern_df[\"lat\"]\n",
    "y_values = northern_df[\"wind\"]\n",
    "\n",
    "#Plot scatter plot\n",
    "plt.scatter(x_values,y_values)\n",
    "\n",
    "# Regression line info\n",
    "(slope, intercept, rvalue, pbalue, stderr) = linregress(x_values, y_values)\n",
    "\n",
    "regress_values = x_values * slope + intercept\n",
    "line_eq = \"y= \" + str(round(slope,2)) + \"x+ \" + str(round(intercept,2))\n",
    "\n",
    "#Plot regression line\n",
    "plt.plot(x_values,regress_values,\"r--\")\n",
    "plt.annotate(line_eq,(0,50), fontsize = 6, color = \"green\")\n",
    "\n",
    "#Title & Axis labels\n",
    "plt.title(\"Northern Hemisphere - Latitude vs Wind Speed (mph)\")\n",
    "plt.xlabel(\"Latitude\")\n",
    "plt.ylabel(\"Wind Speed (mph)\")\n",
    "\n",
    "print(f\"Regression line equation is: {line_eq}\")\n",
    "print(f\"The r-squared is: {rvalue**2}\")\n",
    "\n",
    "plt.savefig(\"Pics/North_Hem_W_Speed_vs_Lat.png\")\n",
    "plt.show()\n",
    "\n",
    "print(\"Conclusion.\")"
   ]
  },
  {
   "cell_type": "markdown",
   "metadata": {},
   "source": [
    "####  Southern Hemisphere - Wind Speed (mph) vs. Latitude Linear Regression"
   ]
  },
  {
   "cell_type": "code",
   "execution_count": null,
   "metadata": {},
   "outputs": [],
   "source": [
    "#Run Linear Regression Data\n",
    "x_values = southern_df[\"lat\"]\n",
    "y_values = southern_df[\"wind\"]\n",
    "\n",
    "#Plot scatter plot\n",
    "plt.scatter(x_values,y_values)\n",
    "\n",
    "\n",
    "(slope, intercept, rvalue, pbalue, stderr) = linregress(x_values, y_values)\n",
    "\n",
    "regress_values = x_values * slope + intercept\n",
    "line_eq = \"y= \" + str(round(slope,2)) + \"x+ \" + str(round(intercept,2))\n",
    "\n",
    "\n",
    "\n",
    "#Plot regression line\n",
    "plt.plot(x_values,regress_values,\"r--\")\n",
    "plt.annotate(line_eq,(0,50), fontsize = 6, color = \"green\")\n",
    "\n",
    "#Title & Axis labels\n",
    "plt.title(\"Southern Hemisphere - Latitude vs Wind Speed (mph)\")\n",
    "plt.xlabel(\"Latitude\")\n",
    "plt.ylabel(\"Wind Speed (mph)\")\n",
    "\n",
    "print(f\"Regression line equation is: {line_eq}\")\n",
    "print(f\"The r-squared is: {rvalue**2}\")\n",
    "\n",
    "plt.savefig(\"Pics/South_Hem_W_Speed_vs_Lat.png\")\n",
    "plt.show()\n",
    "\n",
    "print(\"Conclusion\")"
   ]
  },
  {
   "cell_type": "code",
   "execution_count": null,
   "metadata": {},
   "outputs": [],
   "source": []
  }
 ],
 "metadata": {
  "anaconda-cloud": {},
  "kernel_info": {
   "name": "python3"
  },
  "kernelspec": {
   "display_name": "Python (PythonData)",
   "language": "python",
   "name": "pythondata"
  },
  "language_info": {
   "codemirror_mode": {
    "name": "ipython",
    "version": 3
   },
   "file_extension": ".py",
   "mimetype": "text/x-python",
   "name": "python",
   "nbconvert_exporter": "python",
   "pygments_lexer": "ipython3",
   "version": "3.8.3"
  },
  "latex_envs": {
   "LaTeX_envs_menu_present": true,
   "autoclose": false,
   "autocomplete": true,
   "bibliofile": "biblio.bib",
   "cite_by": "apalike",
   "current_citInitial": 1,
   "eqLabelWithNumbers": true,
   "eqNumInitial": 1,
   "hotkeys": {
    "equation": "Ctrl-E",
    "itemize": "Ctrl-I"
   },
   "labels_anchors": false,
   "latex_user_defs": false,
   "report_style_numbering": false,
   "user_envs_cfg": false
  },
  "nteract": {
   "version": "0.12.3"
  }
 },
 "nbformat": 4,
 "nbformat_minor": 2
}
